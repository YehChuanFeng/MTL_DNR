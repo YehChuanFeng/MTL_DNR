{
 "cells": [
  {
   "cell_type": "code",
   "execution_count": 14,
   "id": "04bd6e89",
   "metadata": {},
   "outputs": [],
   "source": [
    "import pandas as pd\n",
    "import numpy as np\n",
    "from tqdm import tqdm\n",
    "from datetime import datetime\n"
   ]
  },
  {
   "cell_type": "code",
   "execution_count": null,
   "id": "7947b8f8",
   "metadata": {},
   "outputs": [],
   "source": [
    "# 读取 CSV 文件\n",
    "#route = \"C:/Users/M1107171/MIMIC/清出來的資料/DNR/20240616\"\n",
    "route = \"C:/Users/USER/M1326168/MIMIC/DNR/20241002\"    \n",
    "input_csv = f'{route}/full_step1.csv'  # 替换成实际文件名\n",
    "output_csv = f'{route}/number_2.5%.csv'  # 输出文件名\n",
    "boundaries_csv = f'{route}/boundaries.csv'  # 边界信息的 CSV 文件"
   ]
  },
  {
   "cell_type": "code",
   "execution_count": 16,
   "id": "b3107ffc",
   "metadata": {},
   "outputs": [],
   "source": [
    "df = pd.read_csv(input_csv)"
   ]
  },
  {
   "cell_type": "code",
   "execution_count": 17,
   "id": "28048d3b",
   "metadata": {},
   "outputs": [
    {
     "name": "stdout",
     "output_type": "stream",
     "text": [
      "['stay_id', 'use_vent', 'Vasopressor', 'Relaxant', 'Sedation', 'PPI', 'Pain control', 'Aspergillus', 'Candida', 'Abdomen', 'Blood', 'Respiratory tract', 'Skin and soft tissue', 'Urinary tract', 'Others', 'dod', 'dod_3day', 'dod_7day', 'dod_30day', 'dod_60day', 'dod_90day', 'InvasiveVent', 'tracheostomy', 'NonInvasiveVent', 'SupplementalOxygen', 'HFNC', 'Muscle', 'Vocalization', 'Body Movements', 'Facial Expressions', 'CPOT(SUM)', 'dialysis', 'CVICU', 'CCU', 'MICU', 'MICU/SICU', 'Neuro Intermediate', 'Neuro Stepdown', 'Neuro SICU', 'SICU', 'TSICU', 'age', 'dnr', 'apsiii', 'MI', 'CHF', 'PVD', 'CVD', 'Dementia', 'CPD', 'RD', 'PUD', 'MLD', 'DM_acute', 'DM_Chronic', 'Hemiplegia', 'Renal', 'Malignancy', 'LD', 'MST', 'AIDS', 'Weaning', 'Reintubation', 'Weaning_successful']\n"
     ]
    }
   ],
   "source": [
    "integer_columns = df.select_dtypes(include='integer').columns.tolist()\n",
    "print(integer_columns)"
   ]
  },
  {
   "cell_type": "code",
   "execution_count": 18,
   "id": "0708f3c0",
   "metadata": {},
   "outputs": [
    {
     "name": "stderr",
     "output_type": "stream",
     "text": [
      " 70%|██████▉   | 146/209 [00:00<00:00, 379.45it/s]\n"
     ]
    }
   ],
   "source": [
    "\"\"\"\n",
    "離群值移除\n",
    "\"\"\"\n",
    "# 确定哪些列是数值型并避开stay_id\n",
    "numeric_cols = df.select_dtypes(include=[np.number]).columns[1:]\n",
    "\n",
    "# 创建一个 DataFrame 来记录边界值\n",
    "boundaries = pd.DataFrame(columns=['Column', 'Lower_Bound', 'Upper_Bound'])\n",
    "\n",
    "# 设置 tqdm 进度条\n",
    "with tqdm(total=len(numeric_cols)) as pbar:  # 创建进度条\n",
    "    # 遍历所有数值型列\n",
    "    for col in numeric_cols:\n",
    "        if col in integer_columns:\n",
    "            continue\n",
    "        \n",
    "        # 找到上下 2.5% 的界限\n",
    "        lower_quantile = df[col].quantile(0.025)  # 下 2.5% 边界\n",
    "        upper_quantile = df[col].quantile(0.975)  # 上 2.5% 边界\n",
    "        \n",
    "        # 将小于下界的值设置为下界\n",
    "        df.loc[df[col] < lower_quantile, col] = lower_quantile\n",
    "        \n",
    "        # 将大于上界的值设置为上界\n",
    "        df.loc[df[col] > upper_quantile, col] = upper_quantile\n",
    "        \n",
    "        # 记录边界值到边界 DataFrame 中\n",
    "        new_boundary = pd.DataFrame({\n",
    "            'Column': [col],\n",
    "            'Lower_Bound': [lower_quantile],\n",
    "            'Upper_Bound': [upper_quantile]\n",
    "        })\n",
    "\n",
    "        boundaries = pd.concat([boundaries, new_boundary], ignore_index=True)\n",
    "        \n",
    "        # 更新进度条\n",
    "        pbar.update(1)  # 更新进度条的进度\n",
    "\n",
    "\n",
    "\n",
    "## 将边界 DataFrame 行列互換後保存到 CSV 文件\n",
    "#transposed_boundaries = boundaries.transpose()  # 互換行與列\n",
    "#transposed_boundaries.to_csv(boundaries_csv, header=False)  # 保存到 CSV，不輸出標題行"
   ]
  },
  {
   "cell_type": "code",
   "execution_count": 19,
   "id": "eef2a9fa",
   "metadata": {},
   "outputs": [],
   "source": [
    "\"\"\"\n",
    "衍生特徵 - Full_code_interval\n",
    "\"\"\"\n",
    "def str_to_date(date_string):\n",
    "    #date_string = \"2024-05-21\"\n",
    "    date_format = \"%Y-%m-%d %H:%M:%S\"\n",
    "    date_object = datetime.strptime(date_string, date_format)\n",
    "    #print(\"日期对象:\", date_object)\n",
    "    return date_object\n",
    "    \n",
    "# 創建一個新的列來存儲Full code間隔天數\n",
    "df['Full_code_interval'] = 0\n",
    "\n",
    "# 遍歷每個 stay_id 分組\n",
    "for stay_id, group in df.groupby('stay_id'):\n",
    "    last_Full_code_date = None\n",
    "    for idx, row in group.iterrows():\n",
    "        if row['Full code'] == 1:  # 假設Full code發生時Full code列的值為1\n",
    "            df.loc[idx, 'Full_code_interval'] = 0\n",
    "            last_Full_code_date = row['date']\n",
    "        elif last_Full_code_date is not None:\n",
    "            #df.loc[idx, 'Full_code_interval'] = (row['date'] - last_Full_code_date).days\n",
    "            df.loc[idx, 'Full_code_interval'] = (str_to_date(row['date']) - str_to_date(last_Full_code_date)).days            \n",
    "        else:\n",
    "            df.loc[idx, 'Full_code_interval'] = 20  # 如果Full code從未發生過，可以用-1標記"
   ]
  },
  {
   "cell_type": "code",
   "execution_count": 20,
   "id": "ce4e307b",
   "metadata": {},
   "outputs": [],
   "source": [
    "df['Strength Arm'] = df[['Strength L Arm', 'Strength R Arm']].max(axis=1)\n",
    "df['Strength Leg'] = df[['Strength L Leg', 'Strength R Leg']].max(axis=1)\n",
    "df = df.drop(columns=['Strength L Arm', 'Strength R Arm', 'Strength L Leg', 'Strength R Leg'])"
   ]
  },
  {
   "cell_type": "code",
   "execution_count": 21,
   "id": "c43f169f",
   "metadata": {},
   "outputs": [],
   "source": [
    "# 将处理后的 DataFrame 保存到 CSV 文件，并用 \"NULL\" 表示空值\n",
    "df.to_csv(output_csv, index=False, na_rep=\"NULL\")  # 使用 na_rep 指定 \"NULL\" 替代 NaN"
   ]
  },
  {
   "cell_type": "code",
   "execution_count": 22,
   "id": "b4b7c20a",
   "metadata": {},
   "outputs": [
    {
     "name": "stderr",
     "output_type": "stream",
     "text": [
      "Processing Groups: 100%|██████████| 5870/5870 [00:59<00:00, 98.01it/s] \n"
     ]
    }
   ],
   "source": [
    "# 读取 CSV 文件\n",
    "df_original = pd.read_csv(f'{route}/number_2.5%.csv')\n",
    "df_original = df_original.rename(columns={'FiO2': 'avg FiO2'})\n",
    "\n",
    "# 选择必要的列\n",
    "required_columns = ['stay_id', 'date', 'Vasopressor', 'avg FiO2', 'use_vent']\n",
    "\n",
    "# 只保留必要的列\n",
    "df = df_original[required_columns].copy()\n",
    "\n",
    "# 转换日期列\n",
    "df['date'] = pd.to_datetime(df['date'], errors='coerce')  # 确保日期列一致\n",
    "df_original['date'] = pd.to_datetime(df_original['date'], errors='coerce')\n",
    "\n",
    "# 确保数据按 stay_id 和 date 排序\n",
    "df = df.sort_values(by=['stay_id', 'date'])\n",
    "\n",
    "# 初始化标记\n",
    "df['Consecutive_Vasopressor_Over3'] = 0\n",
    "df['Consecutive_Vasopressor_Over7'] = 0\n",
    "df['Consecutive_avg_FiO2_Over50'] = 0\n",
    "df['Consecutive_avg_FiO2_Over60'] = 0\n",
    "\n",
    "\n",
    "# 创建标记列\n",
    "df['Is_Vasopressor_Active'] = df['Vasopressor'] == 1\n",
    "df['Is_avg_FiO2_Over50'] = df['avg FiO2'] >= 50\n",
    "df['Is_avg_FiO2_Over60'] = df['avg FiO2'] >= 60\n",
    "\n",
    "# 使用矢量化计算分组\n",
    "df['group_vasopressor'] = (df['Is_Vasopressor_Active'] != df['Is_Vasopressor_Active'].shift()).cumsum()\n",
    "df['group_FiO2_50'] = (df['Is_avg_FiO2_Over50'] != df['Is_avg_FiO2_Over50'].shift()).cumsum()\n",
    "df['group_FiO2_60'] = (df['Is_avg_FiO2_Over60'] != df['Is_avg_FiO2_Over60'].shift()).cumsum()\n",
    "\n",
    "# 创建进度条，按 stay_id 分组\n",
    "grouped = df.groupby('stay_id')\n",
    "with tqdm(total=len(grouped), desc='Processing Groups') as pbar:\n",
    "    for name, group in grouped:\n",
    "        # 计算连续的天数\n",
    "        group['Consecutive_Vasopressor_Days'] = group['Is_Vasopressor_Active'].astype(int).groupby(group['group_vasopressor']).cumsum()\n",
    "        group['Consecutive_avg_FiO2_Over50_Days'] = group['Is_avg_FiO2_Over50'].astype(int).groupby(group['group_FiO2_50']).cumsum()\n",
    "        group['Consecutive_avg_FiO2_Over60_Days'] = group['Is_avg_FiO2_Over60'].astype(int).groupby(group['group_FiO2_60']).cumsum()\n",
    "\n",
    "        # 设置标记\n",
    "        group.loc[group['Consecutive_Vasopressor_Days'] >= 3, 'Consecutive_Vasopressor_Over3'] = 1\n",
    "        group.loc[group['Consecutive_Vasopressor_Days'] >= 7, 'Consecutive_Vasopressor_Over7'] = 1\n",
    "        group.loc[group['Consecutive_avg_FiO2_Over50_Days'] >= 3, 'Consecutive_avg_FiO2_Over50'] = 1\n",
    "        group.loc[group['Consecutive_avg_FiO2_Over60_Days'] >= 3, 'Consecutive_avg_FiO2_Over60'] = 1\n",
    "        # 更新原 DataFrame\n",
    "        df.update(group)\n",
    "        # 更新进度条\n",
    "        pbar.update(1)\n",
    "\n",
    "# 清理临时列\n",
    "columns_to_drop = ['Is_Vasopressor_Active', 'group_vasopressor', 'Consecutive_Vasopressor_Days', \n",
    "                   'Is_avg_FiO2_Over50', 'group_FiO2_50', 'Consecutive_avg_FiO2_Over50_Days', \n",
    "                   'Is_avg_FiO2_Over60', 'group_FiO2_60', 'Consecutive_avg_FiO2_Over60_Days']\n",
    "\n",
    "# 删除存在的列\n",
    "df.drop(columns_to_drop, axis=1, errors='ignore', inplace=True)\n",
    "\n",
    "# 将处理后的数据与原始数据合并\n",
    "result_df = df_original.merge(df, on=['stay_id', 'date'], how='left', suffixes=('', '_remove'))  # 确保列后缀\n",
    "\n",
    "# 删除冗余列\n",
    "columns_to_drop_after_merge = ['Vasopressor_remove', 'avg FiO2_remove','use_vent_remove']  # 删除重复列\n",
    "result_df.drop(columns_to_drop_after_merge, axis=1, errors='ignore', inplace=True)\n",
    "\n"
   ]
  },
  {
   "cell_type": "code",
   "execution_count": 23,
   "id": "b48b47b7",
   "metadata": {},
   "outputs": [],
   "source": [
    "result_df = result_df.rename(columns={'avg FiO2': 'FiO2'})\n",
    "if 'icu_intime' in result_df.columns:\n",
    "    result_df.drop('icu_intime', axis=1, inplace=True)\n",
    "if 'icu_outtime' in result_df.columns:\n",
    "    result_df.drop('icu_outtime', axis=1, inplace=True)\n",
    "\n",
    "# 保存结果到 CSV\n",
    "#result_df.to_csv(f'C:/Users/M1107171/MIMIC/清出來的資料/DNR/20240616/full_step1_5.csv',index = False)\n",
    "result_df.to_csv(f'C:/Users/USER/M1326168/MIMIC/DNR/20250312/2/full_step1_5.csv',index = False)"
   ]
  },
  {
   "cell_type": "markdown",
   "id": "c88e47b0",
   "metadata": {},
   "source": [
    "# End"
   ]
  },
  {
   "cell_type": "code",
   "execution_count": null,
   "id": "b918e991",
   "metadata": {},
   "outputs": [],
   "source": []
  },
  {
   "cell_type": "code",
   "execution_count": null,
   "id": "b6d35d39",
   "metadata": {},
   "outputs": [],
   "source": []
  },
  {
   "cell_type": "code",
   "execution_count": null,
   "id": "65f63097",
   "metadata": {},
   "outputs": [],
   "source": []
  },
  {
   "cell_type": "code",
   "execution_count": null,
   "id": "4823ea22",
   "metadata": {},
   "outputs": [],
   "source": []
  },
  {
   "cell_type": "code",
   "execution_count": null,
   "id": "049a5a6c",
   "metadata": {},
   "outputs": [
    {
     "name": "stderr",
     "output_type": "stream",
     "text": [
      "  0%|          | 0/9513 [00:00<?, ?it/s]"
     ]
    },
    {
     "name": "stdout",
     "output_type": "stream",
     "text": [
      "     stay_id  Vasopressor  Consecutive_Vasopressor_Over3\n",
      "16  30007565            1                            0.0\n",
      "17  30007565            1                            0.0\n",
      "18  30007565            1                            1.0\n",
      "19  30007565            1                            1.0\n",
      "20  30007565            1                            1.0\n",
      "21  30007565            0                            0.0\n",
      "22  30007565            1                            0.0\n",
      "23  30007565            1                            0.0\n",
      "24  30007565            0                            0.0\n",
      "25  30007565            0                            0.0\n",
      "26  30007565            0                            0.0\n",
      "27  30007565            0                            0.0\n",
      "28  30007565            0                            0.0\n",
      "29  30007565            0                            0.0\n",
      "30  30007565            0                            0.0\n",
      "31  30007565            0                            0.0\n",
      "32  30007565            0                            0.0\n",
      "33  30007565            0                            0.0\n"
     ]
    },
    {
     "name": "stderr",
     "output_type": "stream",
     "text": [
      "  0%|          | 4/9513 [00:04<2:43:51,  1.03s/it]\n"
     ]
    },
    {
     "ename": "KeyboardInterrupt",
     "evalue": "Interrupted by user",
     "output_type": "error",
     "traceback": [
      "\u001b[1;31m---------------------------------------------------------------------------\u001b[0m",
      "\u001b[1;31mKeyboardInterrupt\u001b[0m                         Traceback (most recent call last)",
      "\u001b[1;32m~\\AppData\\Local\\Temp\\ipykernel_288\\1501149752.py\u001b[0m in \u001b[0;36m<module>\u001b[1;34m\u001b[0m\n\u001b[0;32m     11\u001b[0m     \u001b[1;32mif\u001b[0m \u001b[0mdf_P\u001b[0m\u001b[1;33m[\u001b[0m\u001b[1;34m'Vasopressor'\u001b[0m\u001b[1;33m]\u001b[0m\u001b[1;33m.\u001b[0m\u001b[0mmax\u001b[0m\u001b[1;33m(\u001b[0m\u001b[1;33m)\u001b[0m \u001b[1;33m==\u001b[0m \u001b[1;36m1\u001b[0m\u001b[1;33m:\u001b[0m\u001b[1;33m\u001b[0m\u001b[1;33m\u001b[0m\u001b[0m\n\u001b[0;32m     12\u001b[0m         \u001b[0mprint\u001b[0m\u001b[1;33m(\u001b[0m\u001b[0mdf_P\u001b[0m\u001b[1;33m)\u001b[0m\u001b[1;33m\u001b[0m\u001b[1;33m\u001b[0m\u001b[0m\n\u001b[1;32m---> 13\u001b[1;33m         \u001b[0minput\u001b[0m\u001b[1;33m(\u001b[0m\u001b[1;34m\"***********\"\u001b[0m\u001b[1;33m)\u001b[0m\u001b[1;33m\u001b[0m\u001b[1;33m\u001b[0m\u001b[0m\n\u001b[0m",
      "\u001b[1;32mc:\\Users\\USER\\anaconda3\\lib\\site-packages\\ipykernel\\kernelbase.py\u001b[0m in \u001b[0;36mraw_input\u001b[1;34m(self, prompt)\u001b[0m\n\u001b[0;32m   1042\u001b[0m                 \u001b[1;34m\"raw_input was called, but this frontend does not support input requests.\"\u001b[0m\u001b[1;33m\u001b[0m\u001b[1;33m\u001b[0m\u001b[0m\n\u001b[0;32m   1043\u001b[0m             )\n\u001b[1;32m-> 1044\u001b[1;33m         return self._input_request(\n\u001b[0m\u001b[0;32m   1045\u001b[0m             \u001b[0mstr\u001b[0m\u001b[1;33m(\u001b[0m\u001b[0mprompt\u001b[0m\u001b[1;33m)\u001b[0m\u001b[1;33m,\u001b[0m\u001b[1;33m\u001b[0m\u001b[1;33m\u001b[0m\u001b[0m\n\u001b[0;32m   1046\u001b[0m             \u001b[0mself\u001b[0m\u001b[1;33m.\u001b[0m\u001b[0m_parent_ident\u001b[0m\u001b[1;33m[\u001b[0m\u001b[1;34m\"shell\"\u001b[0m\u001b[1;33m]\u001b[0m\u001b[1;33m,\u001b[0m\u001b[1;33m\u001b[0m\u001b[1;33m\u001b[0m\u001b[0m\n",
      "\u001b[1;32mc:\\Users\\USER\\anaconda3\\lib\\site-packages\\ipykernel\\kernelbase.py\u001b[0m in \u001b[0;36m_input_request\u001b[1;34m(self, prompt, ident, parent, password)\u001b[0m\n\u001b[0;32m   1087\u001b[0m             \u001b[1;32mexcept\u001b[0m \u001b[0mKeyboardInterrupt\u001b[0m\u001b[1;33m:\u001b[0m\u001b[1;33m\u001b[0m\u001b[1;33m\u001b[0m\u001b[0m\n\u001b[0;32m   1088\u001b[0m                 \u001b[1;31m# re-raise KeyboardInterrupt, to truncate traceback\u001b[0m\u001b[1;33m\u001b[0m\u001b[1;33m\u001b[0m\u001b[0m\n\u001b[1;32m-> 1089\u001b[1;33m                 \u001b[1;32mraise\u001b[0m \u001b[0mKeyboardInterrupt\u001b[0m\u001b[1;33m(\u001b[0m\u001b[1;34m\"Interrupted by user\"\u001b[0m\u001b[1;33m)\u001b[0m \u001b[1;32mfrom\u001b[0m \u001b[1;32mNone\u001b[0m\u001b[1;33m\u001b[0m\u001b[1;33m\u001b[0m\u001b[0m\n\u001b[0m\u001b[0;32m   1090\u001b[0m             \u001b[1;32mexcept\u001b[0m \u001b[0mException\u001b[0m\u001b[1;33m:\u001b[0m\u001b[1;33m\u001b[0m\u001b[1;33m\u001b[0m\u001b[0m\n\u001b[0;32m   1091\u001b[0m                 \u001b[0mself\u001b[0m\u001b[1;33m.\u001b[0m\u001b[0mlog\u001b[0m\u001b[1;33m.\u001b[0m\u001b[0mwarning\u001b[0m\u001b[1;33m(\u001b[0m\u001b[1;34m\"Invalid Message:\"\u001b[0m\u001b[1;33m,\u001b[0m \u001b[0mexc_info\u001b[0m\u001b[1;33m=\u001b[0m\u001b[1;32mTrue\u001b[0m\u001b[1;33m)\u001b[0m\u001b[1;33m\u001b[0m\u001b[1;33m\u001b[0m\u001b[0m\n",
      "\u001b[1;31mKeyboardInterrupt\u001b[0m: Interrupted by user"
     ]
    }
   ],
   "source": [
    "\"\"\"\n",
    "Vasopressor 測試\n",
    "\"\"\"\n",
    "#df = pd.read_csv(f'C:/Users/M1107171/MIMIC/清出來的資料/DNR/20240616/full_step1_5.csv')\n",
    "df = pd.read_csv(f'C:/Users/USER/M1326168/MIMIC/DNR/20241002/full_step1_5.csv')    \n",
    "df = df[['stay_id','Vasopressor','Consecutive_Vasopressor_Over3']]\n",
    "distinct_stay_id = df['stay_id'].unique()\n",
    "\n",
    "for stay_ids in tqdm(distinct_stay_id): \n",
    "    df_P = df[df['stay_id'] == stay_ids]\n",
    "    if df_P['Vasopressor'].max() == 1:\n",
    "        print(df_P)\n",
    "        input(\"***********\")"
   ]
  },
  {
   "cell_type": "code",
   "execution_count": null,
   "id": "23baa059",
   "metadata": {},
   "outputs": [],
   "source": [
    "\"\"\"\n",
    "FiO2 測試\n",
    "\"\"\"\n",
    "#df = pd.read_csv(f'C:/Users/M1107171/MIMIC/清出來的資料/DNR/20240424/full_step1_5.csv')\n",
    "df = pd.read_csv(f'C:/Users/USER/M1326168/MIMIC/DNR/20241002/full_step1_5.csv')\n",
    "df = df[['stay_id','FiO2','Consecutive_avg_FiO2_Over50','Consecutive_avg_FiO2_Over60']]\n",
    "distinct_stay_id = df['stay_id'].unique()\n",
    "\n",
    "for stay_ids in tqdm(distinct_stay_id): \n",
    "    df_P = df[df['stay_id'] == stay_ids]\n",
    "    if df_P['Consecutive_avg_FiO2_Over50'].max() == 1 or df_P['Consecutive_avg_FiO2_Over60'].max() == 1:\n",
    "        print(df_P)\n",
    "        input(\"***********\")"
   ]
  },
  {
   "cell_type": "code",
   "execution_count": null,
   "id": "84da7a03",
   "metadata": {},
   "outputs": [],
   "source": [
    "\"\"\"\n",
    "Full_code_interval 測試\n",
    "\"\"\"\n",
    "#df = pd.read_csv(f'C:/Users/M1107171/MIMIC/清出來的資料/DNR/20240616/full_step1_5.csv')\n",
    "df = pd.read_csv(f'C:/Users/USER/M1326168/MIMIC/DNR/20241002/full_step1_5.csv')\n",
    "df = df[['stay_id','Full code','Full_code_interval']]\n",
    "distinct_stay_id = df['stay_id'].unique()\n",
    "\n",
    "for stay_ids in tqdm(distinct_stay_id): \n",
    "    df_P = df[df['stay_id'] == stay_ids]\n",
    "    if df_P['Full code'].max() == 1:\n",
    "        print(df_P)\n",
    "        input(\"***********\")\n",
    "    "
   ]
  },
  {
   "cell_type": "code",
   "execution_count": null,
   "id": "9f4ee3c1",
   "metadata": {},
   "outputs": [],
   "source": []
  }
 ],
 "metadata": {
  "kernelspec": {
   "display_name": "base",
   "language": "python",
   "name": "python3"
  },
  "language_info": {
   "codemirror_mode": {
    "name": "ipython",
    "version": 3
   },
   "file_extension": ".py",
   "mimetype": "text/x-python",
   "name": "python",
   "nbconvert_exporter": "python",
   "pygments_lexer": "ipython3",
   "version": "3.9.13"
  }
 },
 "nbformat": 4,
 "nbformat_minor": 5
}

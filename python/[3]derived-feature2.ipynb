{
 "cells": [
  {
   "cell_type": "code",
   "execution_count": 25,
   "id": "255875c7",
   "metadata": {},
   "outputs": [],
   "source": [
    "import pandas as pd\n",
    "from tqdm import tqdm\n",
    "import numpy as np"
   ]
  },
  {
   "cell_type": "code",
   "execution_count": null,
   "id": "592871ba",
   "metadata": {},
   "outputs": [],
   "source": [
    "#df= pd.read_csv(f'C:/Users/M1107171/MIMIC/清出來的資料/DNR/20240616/full_step1_5.csv')\n",
    "\n",
    "df= pd.read_csv(f'C:/Users/USER/M1326168/MIMIC/DNR/20241002/full_step1_5.csv')"
   ]
  },
  {
   "cell_type": "code",
   "execution_count": 27,
   "id": "5e49bd37",
   "metadata": {},
   "outputs": [
    {
     "name": "stdout",
     "output_type": "stream",
     "text": [
      "112\n"
     ]
    }
   ],
   "source": [
    "print(df['Muscle'].sum())\n",
    "#,'Vocalization','Body Movements','Facial Expressions','CPOT(SUM)','CPOT(SUM)'"
   ]
  },
  {
   "cell_type": "code",
   "execution_count": 28,
   "id": "61b61ebe",
   "metadata": {},
   "outputs": [
    {
     "name": "stdout",
     "output_type": "stream",
     "text": [
      "總患者數:5870\n"
     ]
    }
   ],
   "source": [
    "distinct_stay_id = df['stay_id'].unique()\n",
    "print(f'總患者數:{len(distinct_stay_id)}')"
   ]
  },
  {
   "cell_type": "code",
   "execution_count": 29,
   "id": "33f3eab4",
   "metadata": {},
   "outputs": [],
   "source": [
    "\"\"\"\n",
    "計算累積次數，如遇0超過兩次則重新計算\n",
    "\"\"\"\n",
    "def count_acc(data):\n",
    "    count = 0\n",
    "    count_0 = 0\n",
    "    result = []\n",
    "    started = False  # 加入標誌，表示是否開始計算\n",
    "\n",
    "    for value in data:\n",
    "        if value == 1:\n",
    "            started = True  # 遇到第一個 1，開始計算\n",
    "            count += 1\n",
    "            count_0 = 0  # 遇到 1 時重置連續 0 的計數\n",
    "        elif started:  # 只在開始計算後處理 0 的情況\n",
    "            count_0 += 1\n",
    "            if count_0 > 2:\n",
    "                count = 0  # 超過兩個連續 0，計數器歸零\n",
    "            else:\n",
    "                count += 1  # 計算連續 0 的情況\n",
    "        result.append(count if started else 0)  # 未開始計算前結果為 0\n",
    "\n",
    "    return result"
   ]
  },
  {
   "cell_type": "code",
   "execution_count": 30,
   "id": "eaeda64d",
   "metadata": {},
   "outputs": [
    {
     "data": {
      "text/plain": [
       "'\\n衍生特徵\\n#棄用\\n1.. vasopressor_acc(累積Vasopressor使用次數)\\n'"
      ]
     },
     "execution_count": 30,
     "metadata": {},
     "output_type": "execute_result"
    }
   ],
   "source": [
    "\"\"\"\n",
    "衍生特徵\n",
    "1. use_vent_consecutive_7days(連續呼吸器使用7天)\n",
    "#棄用\n",
    "2. use_vent_acc(累積呼吸次數)\n",
    "\"\"\"\n",
    "def add_use_vent_features(df_in):\n",
    "    df_P = df_in.copy()\n",
    "    df_P['use_vent_consecutive_7days'] = df_P['use_vent'].rolling(window=7).apply(lambda x: x.sum() >= 7).fillna(0)\n",
    "    lase_vent_index = -1\n",
    "    for i in range(len(df_P)):\n",
    "        if df_P.at[i, 'use_vent'] == 1:\n",
    "            # 检查上次的 dialysis 和当前之间是否有 <= 3 个 0\n",
    "            if lase_vent_index != -1 and (i - lase_vent_index - 1) <= 3:\n",
    "                for j in range(lase_vent_index + 1, i):\n",
    "                    df_P.at[j, 'use_vent'] = 1\n",
    "                 \n",
    "    df_P['use_vent_acc'] = count_acc(df_P['use_vent'])\n",
    "    return df_P\n",
    "\n",
    "\"\"\"\n",
    "衍生特徵\n",
    "1. dialysis_over3(連續洗腎3天)\n",
    "2. dialysis_over7(連續洗腎7天)\n",
    "\"\"\"\n",
    "def add_dialysis_features(df_in):\n",
    "    df_P = df_in.copy()\n",
    "    df_P['dialysis_over3'] = df_P['dialysis'].rolling(window=3).apply(lambda x: x.sum() >= 3).fillna(0)\n",
    "    df_P['dialysis_over7'] = df_P['dialysis'].rolling(window=7).apply(lambda x: x.sum() >= 7).fillna(0)\n",
    "    #if df_P['dialysis_over3'].max()>0:\n",
    "    #    input(df_P[['dialysis','dialysis_over3']])\n",
    "    return df_P\n",
    "\n",
    "\"\"\"\n",
    "衍生特徵\n",
    "1. dialysis_since_last_event (距離上次洗腎經過的時間)\n",
    "2. dialysis_acc(累積洗腎次數)\n",
    "\"\"\"\n",
    "def calculate_since_last_dialysis(df_in): \n",
    "    df_P = df_in.copy()\n",
    "    df_P['dialysis_acc'] = df_P['dialysis'].cumsum()\n",
    "    lase_dialysis_index = -1\n",
    "    for i in range(len(df_P)):\n",
    "        if df_P.at[i,'dialysis'] == 1:\n",
    "            lase_dialysis_index = i\n",
    "        \n",
    "        if lase_dialysis_index == -1:\n",
    "            df_P.at[i,'dialysis_since_last_event'] = 20\n",
    "        else:\n",
    "            df_P.at[i,'dialysis_since_last_event'] = i-lase_dialysis_index\n",
    "    return df_P\n",
    "\n",
    "\"\"\"\n",
    "衍生特徵\n",
    "#棄用\n",
    "1.. vasopressor_acc(累積Vasopressor使用次數)\n",
    "\"\"\"\n",
    "# def add_use_Vasopressor_features(df_in):\n",
    "#     df_P = df_in.copy()\n",
    "#     lase_vasopressor_index = -1\n",
    "#     for i in range(len(df_P)):\n",
    "#         if df_P.at[i, 'Vasopressor'] == 1:\n",
    "#             # 检查上次的 dialysis 和当前之间是否有 <= 2 个 0\n",
    "#             if lase_vasopressor_index != -1 and (i - lase_vasopressor_index - 1) <= 2:\n",
    "#                 for j in range(lase_vasopressor_index + 1, i):\n",
    "#                     df_P.at[j, 'Vasopressor'] = 1\n",
    "                    \n",
    "#     df_P['use_vasopressor_acc'] = count_acc(df_P['Vasopressor'])\n",
    "#     return df_P\n",
    "\n",
    "\n",
    "\n"
   ]
  },
  {
   "cell_type": "code",
   "execution_count": 31,
   "id": "83553cec",
   "metadata": {},
   "outputs": [
    {
     "name": "stderr",
     "output_type": "stream",
     "text": [
      "Processing stay_ids: 100%|██████████| 5870/5870 [00:24<00:00, 243.13it/s]\n"
     ]
    }
   ],
   "source": [
    "df_result_list = []\n",
    "\n",
    "for stay_id in tqdm(distinct_stay_id, desc=\"Processing stay_ids\"):\n",
    "    df_P = df[df['stay_id'] == stay_id]\n",
    "    df_P.reset_index(drop=True, inplace=True)\n",
    "    \n",
    "    df_P = add_use_vent_features(df_P)\n",
    "    df_P = add_dialysis_features(df_P)\n",
    "    df_P = calculate_since_last_dialysis(df_P)\n",
    "    #df_P = add_use_Vasopressor_features(df_P)\n",
    "    df_result_list.append(df_P)\n",
    "\n",
    "df_result = pd.concat(df_result_list, ignore_index=True)"
   ]
  },
  {
   "cell_type": "code",
   "execution_count": null,
   "id": "aa502a17",
   "metadata": {},
   "outputs": [],
   "source": [
    "#df_result.to_csv(f'C:/Users/M1107171/MIMIC/清出來的資料/DNR/20240616/full_step1_6.csv',index = False)\n",
    "\n",
    "df_result.to_csv(f'C:/Users/USER/M1326168/MIMIC/DNR/20241002/full_step1_6.csv',index = False)"
   ]
  },
  {
   "cell_type": "code",
   "execution_count": 33,
   "id": "3ec00d41",
   "metadata": {},
   "outputs": [
    {
     "data": {
      "text/plain": [
       "\"\\n# 使用範例\\ndf_P = pd.DataFrame({\\n    'use_vent': [0, 1, 1, 1, 1, 1, 1, 1, 1, 1, 0, 0, 0, 0],\\n    'dialysis': [0, 1, 1, 0, 1, 0, 0, 0, 0, 1, 0, 0, 0, 0]\\n})\\ndf_P = add_use_vent_features(df_P)\\ndf_P = calculate_since_last_dialysis(df_P)\\n\\nprint(df_P)\\n\""
      ]
     },
     "execution_count": 33,
     "metadata": {},
     "output_type": "execute_result"
    }
   ],
   "source": [
    "\n",
    "\"\"\"\n",
    "# 使用範例\n",
    "df_P = pd.DataFrame({\n",
    "    'use_vent': [0, 1, 1, 1, 1, 1, 1, 1, 1, 1, 0, 0, 0, 0],\n",
    "    'dialysis': [0, 1, 1, 0, 1, 0, 0, 0, 0, 1, 0, 0, 0, 0]\n",
    "})\n",
    "df_P = add_use_vent_features(df_P)\n",
    "df_P = calculate_since_last_dialysis(df_P)\n",
    "\n",
    "print(df_P)\n",
    "\"\"\""
   ]
  },
  {
   "cell_type": "code",
   "execution_count": 34,
   "id": "289fd684",
   "metadata": {},
   "outputs": [
    {
     "name": "stdout",
     "output_type": "stream",
     "text": [
      "0.0\n",
      "0.0\n"
     ]
    }
   ],
   "source": [
    "print(df_result['dialysis_over3'].sum())\n",
    "print(df_result['dialysis_over7'].sum())"
   ]
  },
  {
   "cell_type": "code",
   "execution_count": 36,
   "id": "cc5867af",
   "metadata": {},
   "outputs": [
    {
     "name": "stdout",
     "output_type": "stream",
     "text": [
      "平均值: 0.6286201022146508\n",
      "四分位數: \n",
      "0.25    0.0\n",
      "0.50    1.0\n",
      "0.75    1.0\n",
      "Name: use_vent_acc, dtype: float64\n",
      "標準差: 0.48321490795506905\n"
     ]
    }
   ],
   "source": [
    "#print(df_result['use_vent_acc'].sum())\n",
    "# 計算平均值\n",
    "#mean_use_vent_acc = df['use_vent_acc'].mean()\n",
    "\n",
    "# 計算四分位數\n",
    "#quartiles_use_vent_acc = df['use_vent_acc'].quantile([0.25, 0.5, 0.75])\n",
    "\n",
    "print(f\"平均值: {df_result['use_vent_acc'].mean()}\")\n",
    "print(f\"四分位數: \\n{df_result['use_vent_acc'].quantile([0.25, 0.5, 0.75])}\")\n",
    "print(f\"標準差: {df_result['use_vent_acc'].std()}\")"
   ]
  }
 ],
 "metadata": {
  "kernelspec": {
   "display_name": "base",
   "language": "python",
   "name": "python3"
  },
  "language_info": {
   "codemirror_mode": {
    "name": "ipython",
    "version": 3
   },
   "file_extension": ".py",
   "mimetype": "text/x-python",
   "name": "python",
   "nbconvert_exporter": "python",
   "pygments_lexer": "ipython3",
   "version": "3.9.13"
  }
 },
 "nbformat": 4,
 "nbformat_minor": 5
}
